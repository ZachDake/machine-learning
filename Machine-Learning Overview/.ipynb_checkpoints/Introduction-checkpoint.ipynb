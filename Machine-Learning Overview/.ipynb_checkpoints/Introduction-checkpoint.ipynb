{
 "cells": [
  {
   "cell_type": "markdown",
   "metadata": {},
   "source": [
    "# Introduction To Machine Learning:\n",
    "### First setting up our environment:"
   ]
  },
  {
   "cell_type": "code",
   "execution_count": null,
   "metadata": {},
   "outputs": [],
   "source": [
    "import plotly.plotyly as py"
   ]
  },
  {
   "cell_type": "markdown",
   "metadata": {},
   "source": [
    "### Now for the content:"
   ]
  },
  {
   "cell_type": "markdown",
   "metadata": {},
   "source": [
    "# What is Machine Learning?\n",
    "\n",
    "### Definition #1: \n",
    "\n",
    "#### Machine Learning is a field of study that gives computers the ability to learn without being being explicitly programmed. \n",
    "\n",
    "   - Arthur Samuel (1959)\n",
    "\n",
    "### Definition #2:\n",
    "\n",
    "#### A computer program is said to _learn_ from experience **E** with respect to some task **T** and some performance measure **P**, if its performance on **T**, as measure by **P**, improves with experience **E**.\n",
    "\n",
    "   - Tom Mitchel (1998)\n",
    "  \n",
    "  <br/>\n"
   ]
  },
  {
   "cell_type": "markdown",
   "metadata": {},
   "source": [
    "# Machine Learning Algorithms:\n",
    "### - Supervised Learning\n",
    "### - Unsupervised Learning\n",
    "### - Reinforcement Learning\n",
    "### - Recommender Systems\n",
    "\n",
    "<br/>"
   ]
  },
  {
   "attachments": {},
   "cell_type": "markdown",
   "metadata": {},
   "source": [
    "# Supervised Learning:\n",
    "\n",
    "### lets start by looking at an example:\n",
    "\n",
    "<br/>\n",
    "\n",
    "<img src=\"Images/ml-1.png\">"
   ]
  },
  {
   "attachments": {},
   "cell_type": "markdown",
   "metadata": {},
   "source": [
    "### Given this set of data you could possibly have a learning algorithm put a straight line through the data set. this would result in:\n",
    "\n",
    "\n",
    "<br/>\n",
    "\n",
    "<img src=\"Images/ml-2.png\">\n"
   ]
  },
  {
   "attachments": {},
   "cell_type": "markdown",
   "metadata": {},
   "source": [
    " Here you can see that this algorithm would predict a 800 ft^2 house  would approximately cost $180,000. However this may not be the only algorithm you can use, and there might be a better one.\n",
    "\n",
    "### For example instead of using a linear function we could attempt to fit a quadratic function to the data. This would result in:\n",
    "\n",
    "<br/> \n",
    "\n",
    "<img src=\"Images/ml-3.png\">"
   ]
  },
  {
   "cell_type": "markdown",
   "metadata": {},
   "source": [
    " Here you can see the algorithm fits the data much better, and would most likely give a better prediction of the cost of the house.\n",
    "\n",
    "<br/>\n",
    "\n",
    " This example is considered a supervised learning algorithm because the _right answers_ were given through the data set. However this is also called a regression problem because we are trying to predict a continuos valued output (price)."
   ]
  },
  {
   "attachments": {},
   "cell_type": "markdown",
   "metadata": {},
   "source": [
    "### Lets look at another example: Given a tumor size, predict if it is Malignant or Benign.\n",
    "\n",
    "<br/>\n",
    "\n",
    "<img src=\"Images/ml-4.png\">\n",
    "\n"
   ]
  },
  {
   "cell_type": "markdown",
   "metadata": {},
   "source": [
    "Here the blue X's represent a benign tumor while the red X's represent a malignant tumor. This is an example of a **classification problem**. This is a classification problem because you are trying to predict a discrete valued output. In this example the output is either 1 or 0, 1 for a malignant tumor, and 0 for a benign one. However, a problem can still be a classification problem if there are more than two values as long as they are discrete outputs."
   ]
  },
  {
   "attachments": {},
   "cell_type": "markdown",
   "metadata": {},
   "source": [
    "### Now adding age as an argument along the y-axis:\n",
    "<br/>\n",
    "<img src=\"Images/ml-5.png\">\n",
    "\n",
    "Now your algorithm again may draw a straight line through the data, trying to seperate the malignant tumors from the benign ones. In this example we had two features, being age and tumor size, however this is not always the case, and most of the time you are dealing numerous features, and even in some cases **infinite features**\n"
   ]
  },
  {
   "attachments": {},
   "cell_type": "markdown",
   "metadata": {},
   "source": [
    "## Unsupervised Learning:\n",
    "<br/>\n",
    "In unsupervised learning we are given a data and we attempt to find some structure in the data. For example, given arguments $X_{1}$, and $X_{2}$ and the following graph:\n",
    "\n",
    "<br/>\n",
    "\n",
    "<img src=\"Images/ml-6.png\">"
   ]
  },
  {
   "cell_type": "markdown",
   "metadata": {},
   "source": [
    "You can quickly see the red circles split the data into two groups, and an algorithm that groups sets of data is called a **clustering algorithm**.\n",
    "\n",
    "<br/> \n",
    "\n",
    "Unsupervised learning allows us to approach problems with little or no idea what our results should look like. We can derive structure from data where we don't necessarily know the effect of the variables. We can derive this structure by clustering the data based on relationships among the variables in the data. With unsupervised learning there is no feedback based on the prediction results.\n",
    "\n",
    "Example:\n",
    "\n",
    "Clustering: Take a collection of 1,000,000 different genes, and find a way to automatically group these genes into groups that are somehow similar or related by different variables, such as lifespan, location, roles, and so on."
   ]
  }
 ],
 "metadata": {
  "kernelspec": {
   "display_name": "Python 3",
   "language": "python",
   "name": "python3"
  },
  "language_info": {
   "codemirror_mode": {
    "name": "ipython",
    "version": 3
   },
   "file_extension": ".py",
   "mimetype": "text/x-python",
   "name": "python",
   "nbconvert_exporter": "python",
   "pygments_lexer": "ipython3",
   "version": "3.6.5"
  }
 },
 "nbformat": 4,
 "nbformat_minor": 2
}
